{
 "cells": [
  {
   "cell_type": "markdown",
   "id": "40d74e4d",
   "metadata": {},
   "source": [
    "# Happy New Year Wishes With Python"
   ]
  },
  {
   "cell_type": "code",
   "execution_count": 1,
   "id": "aff9777b",
   "metadata": {},
   "outputs": [
    {
     "name": "stdout",
     "output_type": "stream",
     "text": [
      "\u001b[1m  Happy New Year  \u001b[0m\u001b[1m  Happy New Year  \u001b[0m\u001b[1m  Happy New Year  \u001b[0m\n",
      "\n",
      "+++ joy \n",
      "+++ health \n",
      "+++ prosperity \n",
      "+++ happiness\n"
     ]
    }
   ],
   "source": [
    "import datetime\n",
    "\n",
    "date =  datetime.datetime.now()\n",
    "\n",
    "new_year = datetime.datetime(2022, 1, 1)\n",
    "\n",
    "\n",
    "if(date != new_year):\n",
    "    print(3*'\\033[1m  Happy New Year  \\033[0m')\n",
    "    \n",
    "    \n",
    "    \n",
    "    print(\"\\n+++ joy\",\"\\n+++ health\", \"\\n+++ prosperity\", \"\\n+++ happiness\")\n"
   ]
  },
  {
   "cell_type": "code",
   "execution_count": 2,
   "id": "2efab237",
   "metadata": {},
   "outputs": [],
   "source": [
    "import urllib.request\n",
    "\n",
    "from PIL import Image\n",
    "\n",
    "urllib.request.urlretrieve('https://static.wixstatic.com/media/e41b0c_9e3930157870474c9d47c2e1a792903f~mv2.png',\n",
    "                           \"HappyWishes2022\")\n",
    "\n",
    "img = Image.open(\"HappyWishes2022\")\n",
    "\n",
    "img.show()"
   ]
  }
 ],
 "metadata": {
  "kernelspec": {
   "display_name": "Python 3 (ipykernel)",
   "language": "python",
   "name": "python3"
  },
  "language_info": {
   "codemirror_mode": {
    "name": "ipython",
    "version": 3
   },
   "file_extension": ".py",
   "mimetype": "text/x-python",
   "name": "python",
   "nbconvert_exporter": "python",
   "pygments_lexer": "ipython3",
   "version": "3.9.7"
  }
 },
 "nbformat": 4,
 "nbformat_minor": 5
}
